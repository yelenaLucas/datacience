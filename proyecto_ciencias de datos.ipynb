{
 "cells": [
  {
   "cell_type": "markdown",
   "id": "09608bf0",
   "metadata": {},
   "source": [
    "# Proyecto Final de Ciencia de Datos"
   ]
  },
  {
   "cell_type": "markdown",
   "id": "c4a82e2d",
   "metadata": {},
   "source": [
    "## Introducción\n",
    "Este cuaderno contiene ejemplos y ejercicios relacionados con la ciencia de datos."
   ]
  },
  {
   "cell_type": "markdown",
   "id": "e0103207",
   "metadata": {},
   "source": [
    "## Lenguajes de la Ciencia de Datos\n",
    "1. Python\n",
    "2. R\n",
    "3. SQL\n",
    "4. Julia\n",
    "5. Scala\n"
   ]
  },
  {
   "cell_type": "markdown",
   "id": "68940d6c",
   "metadata": {},
   "source": [
    "## Bibliotecas de Ciencia de Datos\n",
    "- Pandas\n",
    "- NumPy\n",
    "- Matplotlib\n",
    "- Scikit-learn\n",
    "- TensorFlow\n"
   ]
  },
  {
   "cell_type": "markdown",
   "id": "1021be35",
   "metadata": {},
   "source": [
    "## Herramientas de Ciencia de Datos\n",
    "\n",
    "| Herramienta         | Descripción                          |\n",
    "|---------------------|--------------------------------------|\n",
    "| Jupyter Notebooks   | Entorno interactivo de notebooks     |\n",
    "| RStudio             | IDE para R                           |\n",
    "| Apache Spark        | Motor de análisis de datos en clúster|\n",
    "| TensorFlow          | Biblioteca de aprendizaje automático |\n"
   ]
  },
  {
   "cell_type": "markdown",
   "id": "ee6a532c",
   "metadata": {},
   "source": [
    "## Ejemplos de Expresiones Aritméticas\n",
    "- Suma: 1 + 1 = 2\n",
    "- Resta: 5 - 2 = 3\n",
    "- Multiplicación: 3 * 4 = 12\n",
    "- División: 8 / 2 = 4\n"
   ]
  },
  {
   "cell_type": "code",
   "execution_count": 1,
   "id": "203a9481",
   "metadata": {},
   "outputs": [
    {
     "data": {
      "text/plain": [
       "(20, 9)"
      ]
     },
     "execution_count": 1,
     "metadata": {},
     "output_type": "execute_result"
    }
   ],
   "source": [
    "# Multiplicación y Suma\n",
    "multiplicacion = 5 * 4\n",
    "suma = 5 + 4\n",
    "multiplicacion, suma\n"
   ]
  },
  {
   "cell_type": "code",
   "execution_count": 2,
   "id": "fc29c2f6",
   "metadata": {},
   "outputs": [
    {
     "data": {
      "text/plain": [
       "2.0"
      ]
     },
     "execution_count": 2,
     "metadata": {},
     "output_type": "execute_result"
    }
   ],
   "source": [
    "# Conversión de minutos a horas\n",
    "minutos = 120\n",
    "horas = minutos / 60\n",
    "horas\n"
   ]
  },
  {
   "cell_type": "code",
   "execution_count": 3,
   "id": "e6ec261d",
   "metadata": {},
   "outputs": [
    {
     "name": "stdout",
     "output_type": "stream",
     "text": [
      "Aprender Python\n",
      "Entender la Ciencia de Datos\n",
      "Aplicar modelos de ML\n"
     ]
    }
   ],
   "source": [
    "# Lista de Objetivos\n",
    "objetivos = [\"Aprender Python\", \"Entender la Ciencia de Datos\", \"Aplicar modelos de ML\"]\n",
    "for objetivo in objetivos:\n",
    "    print(objetivo)\n"
   ]
  },
  {
   "cell_type": "markdown",
   "id": "98a0a529",
   "metadata": {},
   "source": [
    "## Autor\n",
    "Nombre del Autor: Yelena\n"
   ]
  }
 ],
 "metadata": {
  "kernelspec": {
   "display_name": "Python 3 (ipykernel)",
   "language": "python",
   "name": "python3"
  },
  "language_info": {
   "codemirror_mode": {
    "name": "ipython",
    "version": 3
   },
   "file_extension": ".py",
   "mimetype": "text/x-python",
   "name": "python",
   "nbconvert_exporter": "python",
   "pygments_lexer": "ipython3",
   "version": "3.9.12"
  }
 },
 "nbformat": 4,
 "nbformat_minor": 5
}
